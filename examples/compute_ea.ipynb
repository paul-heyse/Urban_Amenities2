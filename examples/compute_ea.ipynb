{
 "cells": [
  {
   "cell_type": "markdown",
   "id": "7fb27b941602401d91542211134fc71a",
   "metadata": {},
   "source": [
    "# Essentials Access quickstart\n",
    "This notebook demonstrates a minimal EA computation using the synthetic data\n",
    "included in the tests. Replace the data frames with real Parquet exports when\n",
    "running the full pipeline."
   ]
  },
  {
   "cell_type": "code",
   "execution_count": null,
   "id": "acae54e37e7d407bbb7b55eff062a284",
   "metadata": {},
   "outputs": [],
   "source": [
    "import pandas as pd\n",
    "\n",
    "from Urban_Amenities2.math.diversity import DiversityConfig\n",
    "from Urban_Amenities2.scores.essentials_access import (\n",
    "    EssentialCategoryConfig,\n",
    "    EssentialsAccessCalculator,\n",
    "    EssentialsAccessConfig,\n",
    ")\n",
    "\n",
    "pois = pd.DataFrame({\n",
    "    \"poi_id\": [\"p1\", \"p2\"],\n",
    "    \"aucstype\": [\"grocery\", \"grocery\"],\n",
    "    \"quality\": [0.9, 0.8],\n",
    "    \"brand\": [\"BrandA\", \"BrandB\"],\n",
    "    \"name\": [\"A\", \"B\"],\n",
    "})\n",
    "\n",
    "accessibility = pd.DataFrame({\n",
    "    \"origin_hex\": [\"hex1\", \"hex1\"],\n",
    "    \"poi_id\": [\"p1\", \"p2\"],\n",
    "    \"weight\": [1.0, 0.6],\n",
    "    \"mode\": [\"car\", \"car\"],\n",
    "    \"period\": [\"AM\", \"AM\"],\n",
    "})\n",
    "\n",
    "config = EssentialsAccessConfig(\n",
    "    categories=[\"grocery\"],\n",
    "    category_params={\n",
    "        \"grocery\": EssentialCategoryConfig(\n",
    "            rho=1.0,\n",
    "            kappa=0.5,\n",
    "            diversity=DiversityConfig(weight=1.0, cap=2.0),\n",
    "        )\n",
    "    },\n",
    ")\n",
    "calculator = EssentialsAccessCalculator(config)\n",
    "ea_scores, category_scores = calculator.compute(pois, accessibility)\n",
    "display(ea_scores)\n",
    "display(category_scores)"
   ]
  }
 ],
 "metadata": {
  "kernelspec": {
   "display_name": "Python 3",
   "language": "python",
   "name": "python3"
  },
  "language_info": {
   "name": "python",
   "version": "3.12"
  }
 },
 "nbformat": 4,
 "nbformat_minor": 5
}
